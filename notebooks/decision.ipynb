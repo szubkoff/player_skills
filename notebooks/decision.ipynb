{
 "cells": [
  {
   "cell_type": "markdown",
   "metadata": {},
   "source": [
    "Создание файла с данными о решениях игрока.\n",
    "Для каждого решения, хоть раз принимавшегося каким-нибудь игроком, создается отдельная колонка. В нее пишется принимал ли хоть раз его соответствующий огрок или нет (one-hot).\n",
    "Данные пишутся в файл data/preprocessed/user_decision_one_hot_all.csv"
   ]
  },
  {
   "cell_type": "code",
   "execution_count": 1,
   "metadata": {},
   "outputs": [],
   "source": [
    "import pandas as pd"
   ]
  },
  {
   "cell_type": "code",
   "execution_count": 2,
   "metadata": {},
   "outputs": [],
   "source": [
    "users_df = pd.read_csv('../data/raw/user.csv', index_col='user_id')\n",
    "decision_df = pd.read_csv('../data/raw/user_decision.csv')"
   ]
  },
  {
   "cell_type": "code",
   "execution_count": 3,
   "metadata": {},
   "outputs": [
    {
     "data": {
      "text/plain": [
       "343"
      ]
     },
     "execution_count": 3,
     "metadata": {},
     "output_type": "execute_result"
    }
   ],
   "source": [
    "len(decision_df['decision_id'].unique())"
   ]
  },
  {
   "cell_type": "code",
   "execution_count": 4,
   "metadata": {},
   "outputs": [],
   "source": [
    "decision_ids = decision_df['decision_id'].value_counts()[:].index\n",
    "# decision_ids = decision_df[['decision_id', 'period']].value_counts().index"
   ]
  },
  {
   "cell_type": "code",
   "execution_count": 5,
   "metadata": {},
   "outputs": [],
   "source": [
    "for decision in decision_ids:\n",
    "    #one-hot decision only\n",
    "    users_df[str(decision)] = users_df.apply(lambda user: ((decision_df['user_id']==user.name)&(decision_df['decision_id']==decision)).any(), axis = 1)\n",
    "\n",
    "    # count of decisions\n",
    "    # users_df[str(decision)] = users_df.apply(lambda user: ((decision_df['user_id']==user.name)&(decision_df['decision_id']==decision)).sum(), axis = 1)\n",
    "\n",
    "    # decision_id = decision[0]\n",
    "    # period = decision[1]\n",
    "    # users_df[f'{str(decision_id)}_{period}'] = users_df.apply(lambda user: ((decision_df['user_id']==user.name)&(decision_df['decision_id']==decision_id)&(decision_df['period']==period)).any(), axis = 1)"
   ]
  },
  {
   "cell_type": "code",
   "execution_count": null,
   "metadata": {},
   "outputs": [],
   "source": [
    "users_df = users_df.drop(columns=['team_id', 'game_id'])"
   ]
  },
  {
   "cell_type": "code",
   "execution_count": null,
   "metadata": {},
   "outputs": [],
   "source": [
    "# Прроверяем что каждое решение хоть раз принималось\n",
    "cols_no_info = []\n",
    "for col in users_df.columns:\n",
    "    if (users_df[col].sum()==0):\n",
    "        cols_no_info.append(col)\n",
    "users_df = users_df.drop(columns=cols_no_info)"
   ]
  },
  {
   "cell_type": "code",
   "execution_count": 7,
   "metadata": {},
   "outputs": [
    {
     "data": {
      "text/html": [
       "<div>\n",
       "<style scoped>\n",
       "    .dataframe tbody tr th:only-of-type {\n",
       "        vertical-align: middle;\n",
       "    }\n",
       "\n",
       "    .dataframe tbody tr th {\n",
       "        vertical-align: top;\n",
       "    }\n",
       "\n",
       "    .dataframe thead th {\n",
       "        text-align: right;\n",
       "    }\n",
       "</style>\n",
       "<table border=\"1\" class=\"dataframe\">\n",
       "  <thead>\n",
       "    <tr style=\"text-align: right;\">\n",
       "      <th></th>\n",
       "      <th>team_id</th>\n",
       "      <th>game_id</th>\n",
       "      <th>386</th>\n",
       "      <th>25</th>\n",
       "      <th>27</th>\n",
       "      <th>26</th>\n",
       "      <th>276</th>\n",
       "      <th>329</th>\n",
       "      <th>331</th>\n",
       "      <th>330</th>\n",
       "      <th>...</th>\n",
       "      <th>347</th>\n",
       "      <th>9</th>\n",
       "      <th>8</th>\n",
       "      <th>216</th>\n",
       "      <th>231</th>\n",
       "      <th>7</th>\n",
       "      <th>233</th>\n",
       "      <th>346</th>\n",
       "      <th>261</th>\n",
       "      <th>258</th>\n",
       "    </tr>\n",
       "    <tr>\n",
       "      <th>user_id</th>\n",
       "      <th></th>\n",
       "      <th></th>\n",
       "      <th></th>\n",
       "      <th></th>\n",
       "      <th></th>\n",
       "      <th></th>\n",
       "      <th></th>\n",
       "      <th></th>\n",
       "      <th></th>\n",
       "      <th></th>\n",
       "      <th></th>\n",
       "      <th></th>\n",
       "      <th></th>\n",
       "      <th></th>\n",
       "      <th></th>\n",
       "      <th></th>\n",
       "      <th></th>\n",
       "      <th></th>\n",
       "      <th></th>\n",
       "      <th></th>\n",
       "      <th></th>\n",
       "    </tr>\n",
       "  </thead>\n",
       "  <tbody>\n",
       "    <tr>\n",
       "      <th>10189</th>\n",
       "      <td>1664</td>\n",
       "      <td>235</td>\n",
       "      <td>True</td>\n",
       "      <td>True</td>\n",
       "      <td>False</td>\n",
       "      <td>False</td>\n",
       "      <td>False</td>\n",
       "      <td>True</td>\n",
       "      <td>True</td>\n",
       "      <td>True</td>\n",
       "      <td>...</td>\n",
       "      <td>False</td>\n",
       "      <td>False</td>\n",
       "      <td>False</td>\n",
       "      <td>False</td>\n",
       "      <td>False</td>\n",
       "      <td>False</td>\n",
       "      <td>False</td>\n",
       "      <td>False</td>\n",
       "      <td>False</td>\n",
       "      <td>False</td>\n",
       "    </tr>\n",
       "    <tr>\n",
       "      <th>10018</th>\n",
       "      <td>1690</td>\n",
       "      <td>237</td>\n",
       "      <td>False</td>\n",
       "      <td>False</td>\n",
       "      <td>False</td>\n",
       "      <td>False</td>\n",
       "      <td>True</td>\n",
       "      <td>False</td>\n",
       "      <td>False</td>\n",
       "      <td>False</td>\n",
       "      <td>...</td>\n",
       "      <td>False</td>\n",
       "      <td>False</td>\n",
       "      <td>False</td>\n",
       "      <td>False</td>\n",
       "      <td>False</td>\n",
       "      <td>False</td>\n",
       "      <td>False</td>\n",
       "      <td>False</td>\n",
       "      <td>False</td>\n",
       "      <td>False</td>\n",
       "    </tr>\n",
       "    <tr>\n",
       "      <th>10580</th>\n",
       "      <td>1394</td>\n",
       "      <td>194</td>\n",
       "      <td>True</td>\n",
       "      <td>False</td>\n",
       "      <td>False</td>\n",
       "      <td>False</td>\n",
       "      <td>False</td>\n",
       "      <td>False</td>\n",
       "      <td>False</td>\n",
       "      <td>False</td>\n",
       "      <td>...</td>\n",
       "      <td>False</td>\n",
       "      <td>False</td>\n",
       "      <td>False</td>\n",
       "      <td>False</td>\n",
       "      <td>False</td>\n",
       "      <td>False</td>\n",
       "      <td>False</td>\n",
       "      <td>False</td>\n",
       "      <td>False</td>\n",
       "      <td>False</td>\n",
       "    </tr>\n",
       "    <tr>\n",
       "      <th>10600</th>\n",
       "      <td>1908</td>\n",
       "      <td>262</td>\n",
       "      <td>True</td>\n",
       "      <td>False</td>\n",
       "      <td>False</td>\n",
       "      <td>False</td>\n",
       "      <td>True</td>\n",
       "      <td>False</td>\n",
       "      <td>False</td>\n",
       "      <td>False</td>\n",
       "      <td>...</td>\n",
       "      <td>False</td>\n",
       "      <td>False</td>\n",
       "      <td>False</td>\n",
       "      <td>False</td>\n",
       "      <td>False</td>\n",
       "      <td>False</td>\n",
       "      <td>False</td>\n",
       "      <td>False</td>\n",
       "      <td>False</td>\n",
       "      <td>False</td>\n",
       "    </tr>\n",
       "    <tr>\n",
       "      <th>10112</th>\n",
       "      <td>1592</td>\n",
       "      <td>219</td>\n",
       "      <td>False</td>\n",
       "      <td>False</td>\n",
       "      <td>False</td>\n",
       "      <td>False</td>\n",
       "      <td>False</td>\n",
       "      <td>True</td>\n",
       "      <td>True</td>\n",
       "      <td>False</td>\n",
       "      <td>...</td>\n",
       "      <td>False</td>\n",
       "      <td>False</td>\n",
       "      <td>False</td>\n",
       "      <td>False</td>\n",
       "      <td>False</td>\n",
       "      <td>False</td>\n",
       "      <td>False</td>\n",
       "      <td>False</td>\n",
       "      <td>False</td>\n",
       "      <td>False</td>\n",
       "    </tr>\n",
       "  </tbody>\n",
       "</table>\n",
       "<p>5 rows × 345 columns</p>\n",
       "</div>"
      ],
      "text/plain": [
       "         team_id  game_id    386     25     27     26    276    329    331  \\\n",
       "user_id                                                                      \n",
       "10189       1664      235   True   True  False  False  False   True   True   \n",
       "10018       1690      237  False  False  False  False   True  False  False   \n",
       "10580       1394      194   True  False  False  False  False  False  False   \n",
       "10600       1908      262   True  False  False  False   True  False  False   \n",
       "10112       1592      219  False  False  False  False  False   True   True   \n",
       "\n",
       "           330  ...    347      9      8    216    231      7    233    346  \\\n",
       "user_id         ...                                                           \n",
       "10189     True  ...  False  False  False  False  False  False  False  False   \n",
       "10018    False  ...  False  False  False  False  False  False  False  False   \n",
       "10580    False  ...  False  False  False  False  False  False  False  False   \n",
       "10600    False  ...  False  False  False  False  False  False  False  False   \n",
       "10112    False  ...  False  False  False  False  False  False  False  False   \n",
       "\n",
       "           261    258  \n",
       "user_id                \n",
       "10189    False  False  \n",
       "10018    False  False  \n",
       "10580    False  False  \n",
       "10600    False  False  \n",
       "10112    False  False  \n",
       "\n",
       "[5 rows x 345 columns]"
      ]
     },
     "execution_count": 7,
     "metadata": {},
     "output_type": "execute_result"
    }
   ],
   "source": [
    "users_df.head()"
   ]
  },
  {
   "cell_type": "code",
   "execution_count": null,
   "metadata": {},
   "outputs": [],
   "source": [
    "users_df.drop(columns=['team_id', 'game_id']).to_csv('../data/preprocessed/user_decision_one_hot_all.csv')"
   ]
  }
 ],
 "metadata": {
  "kernelspec": {
   "display_name": "Python 3.9.12 ('base')",
   "language": "python",
   "name": "python3"
  },
  "language_info": {
   "codemirror_mode": {
    "name": "ipython",
    "version": 3
   },
   "file_extension": ".py",
   "mimetype": "text/x-python",
   "name": "python",
   "nbconvert_exporter": "python",
   "pygments_lexer": "ipython3",
   "version": "3.9.12"
  },
  "orig_nbformat": 4,
  "vscode": {
   "interpreter": {
    "hash": "fcab38ac7a48d9d126552f019503585294c063bf379df2de5a2df4bc7ac22ae2"
   }
  }
 },
 "nbformat": 4,
 "nbformat_minor": 2
}
