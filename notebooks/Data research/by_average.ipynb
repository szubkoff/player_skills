{
 "cells": [
  {
   "cell_type": "markdown",
   "metadata": {},
   "source": [
    "Берем в качестве оценки средний балл по всем игрокам"
   ]
  },
  {
   "cell_type": "code",
   "execution_count": 19,
   "metadata": {},
   "outputs": [],
   "source": [
    "import pandas as pd"
   ]
  },
  {
   "cell_type": "code",
   "execution_count": 20,
   "metadata": {},
   "outputs": [],
   "source": [
    "results_df = pd.read_csv('../../data/raw/results.csv', index_col='id')"
   ]
  },
  {
   "cell_type": "code",
   "execution_count": 21,
   "metadata": {},
   "outputs": [
    {
     "data": {
      "text/plain": [
       "4.0    417\n",
       "5.0    209\n",
       "3.0     36\n",
       "6.0     14\n",
       "1.0      4\n",
       "Name: Analytical thinking, dtype: int64"
      ]
     },
     "execution_count": 21,
     "metadata": {},
     "output_type": "execute_result"
    }
   ],
   "source": [
    "results_df['Analytical thinking'].value_counts()"
   ]
  },
  {
   "cell_type": "code",
   "execution_count": 22,
   "metadata": {},
   "outputs": [
    {
     "data": {
      "text/plain": [
       "4.0    491\n",
       "5.0    124\n",
       "3.0     51\n",
       "6.0     10\n",
       "1.0      4\n",
       "Name: Systemic thinking, dtype: int64"
      ]
     },
     "execution_count": 22,
     "metadata": {},
     "output_type": "execute_result"
    }
   ],
   "source": [
    "results_df['Systemic thinking'].value_counts()"
   ]
  },
  {
   "cell_type": "code",
   "execution_count": 23,
   "metadata": {},
   "outputs": [
    {
     "data": {
      "text/plain": [
       "5.0    318\n",
       "4.0    308\n",
       "3.0     36\n",
       "6.0     15\n",
       "1.0      2\n",
       "2.0      1\n",
       "Name: Adaptability, dtype: int64"
      ]
     },
     "execution_count": 23,
     "metadata": {},
     "output_type": "execute_result"
    }
   ],
   "source": [
    "results_df['Adaptability'].value_counts()"
   ]
  },
  {
   "cell_type": "code",
   "execution_count": 24,
   "metadata": {},
   "outputs": [
    {
     "data": {
      "text/plain": [
       "4.0    400\n",
       "5.0    244\n",
       "3.0     29\n",
       "6.0      3\n",
       "1.0      3\n",
       "2.0      1\n",
       "Name: Focus, dtype: int64"
      ]
     },
     "execution_count": 24,
     "metadata": {},
     "output_type": "execute_result"
    }
   ],
   "source": [
    "results_df['Focus'].value_counts()"
   ]
  },
  {
   "cell_type": "code",
   "execution_count": 25,
   "metadata": {},
   "outputs": [],
   "source": [
    "submission_df = pd.read_csv('../../data/raw/to_submit.csv', index_col='id')"
   ]
  },
  {
   "cell_type": "code",
   "execution_count": 26,
   "metadata": {},
   "outputs": [],
   "source": [
    "submission_df[['Analytical thinking', 'Systemic thinking', 'Adaptability', 'Focus']] = 4.0"
   ]
  },
  {
   "cell_type": "code",
   "execution_count": 27,
   "metadata": {},
   "outputs": [],
   "source": [
    "submission_df.to_csv('../../data/submission/by_total_average.csv')"
   ]
  }
 ],
 "metadata": {
  "kernelspec": {
   "display_name": "Python 3.9.12 ('base')",
   "language": "python",
   "name": "python3"
  },
  "language_info": {
   "codemirror_mode": {
    "name": "ipython",
    "version": 3
   },
   "file_extension": ".py",
   "mimetype": "text/x-python",
   "name": "python",
   "nbconvert_exporter": "python",
   "pygments_lexer": "ipython3",
   "version": "3.9.12"
  },
  "orig_nbformat": 4,
  "vscode": {
   "interpreter": {
    "hash": "fcab38ac7a48d9d126552f019503585294c063bf379df2de5a2df4bc7ac22ae2"
   }
  }
 },
 "nbformat": 4,
 "nbformat_minor": 2
}
