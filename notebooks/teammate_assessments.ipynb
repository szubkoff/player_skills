{
 "cells": [
  {
   "cell_type": "code",
   "execution_count": 41,
   "metadata": {},
   "outputs": [],
   "source": [
    "import pandas as pd"
   ]
  },
  {
   "cell_type": "code",
   "execution_count": 42,
   "metadata": {},
   "outputs": [],
   "source": [
    "users_df = pd.read_csv('../data/raw/user.csv', index_col='user_id')\n",
    "results_df = pd.read_csv('../data/raw/results.csv', index_col='id')\n",
    "submit_df = pd.read_csv('../data/to_sibmit.csv', index_col='id')\n",
    "\n",
    "# users_df = pd.read_csv('../data/raw_test/user.csv', index_col='user_id')\n",
    "# results_df = pd.read_csv('../data/raw_test/results.csv', index_col='id')\n",
    "# submit_df = pd.read_csv('../data/to_submit_test.csv', index_col='id')"
   ]
  },
  {
   "cell_type": "code",
   "execution_count": 43,
   "metadata": {},
   "outputs": [],
   "source": [
    "assess_cols = ['Analytical thinking', 'Systemic thinking', 'Adaptability', 'Focus']\n",
    "assess_mates_cols = ['Analytical thinking mates', 'Systemic thinking mates', 'Adaptability mates', 'Focus mates']"
   ]
  },
  {
   "cell_type": "code",
   "execution_count": 44,
   "metadata": {},
   "outputs": [],
   "source": [
    "users_df['is_train'] = users_df.index.isin(results_df.index)\n",
    "users_df = users_df.merge(results_df, how='left', left_index=True, right_index=True)"
   ]
  },
  {
   "cell_type": "code",
   "execution_count": 45,
   "metadata": {},
   "outputs": [],
   "source": [
    "users_to_save = users_df[[]].copy()"
   ]
  },
  {
   "cell_type": "code",
   "execution_count": 46,
   "metadata": {},
   "outputs": [],
   "source": [
    "users_to_save[assess_mates_cols] =\\\n",
    "    users_df.apply(lambda user: users_df[(users_df['team_id']==user['team_id'])&(users_df['is_train']==True)&(users_df.index!=user.name)][assess_cols].mean().round(), axis = 1)\n",
    "users_to_save = users_to_save.fillna(4.0)"
   ]
  },
  {
   "cell_type": "code",
   "execution_count": 47,
   "metadata": {},
   "outputs": [
    {
     "data": {
      "text/html": [
       "<div>\n",
       "<style scoped>\n",
       "    .dataframe tbody tr th:only-of-type {\n",
       "        vertical-align: middle;\n",
       "    }\n",
       "\n",
       "    .dataframe tbody tr th {\n",
       "        vertical-align: top;\n",
       "    }\n",
       "\n",
       "    .dataframe thead th {\n",
       "        text-align: right;\n",
       "    }\n",
       "</style>\n",
       "<table border=\"1\" class=\"dataframe\">\n",
       "  <thead>\n",
       "    <tr style=\"text-align: right;\">\n",
       "      <th></th>\n",
       "      <th>Analytical thinking mates</th>\n",
       "      <th>Systemic thinking mates</th>\n",
       "      <th>Adaptability mates</th>\n",
       "      <th>Focus mates</th>\n",
       "    </tr>\n",
       "    <tr>\n",
       "      <th>user_id</th>\n",
       "      <th></th>\n",
       "      <th></th>\n",
       "      <th></th>\n",
       "      <th></th>\n",
       "    </tr>\n",
       "  </thead>\n",
       "  <tbody>\n",
       "    <tr>\n",
       "      <th>10189</th>\n",
       "      <td>4.0</td>\n",
       "      <td>4.0</td>\n",
       "      <td>4.0</td>\n",
       "      <td>4.0</td>\n",
       "    </tr>\n",
       "    <tr>\n",
       "      <th>10018</th>\n",
       "      <td>5.0</td>\n",
       "      <td>5.0</td>\n",
       "      <td>5.0</td>\n",
       "      <td>5.0</td>\n",
       "    </tr>\n",
       "    <tr>\n",
       "      <th>10580</th>\n",
       "      <td>4.0</td>\n",
       "      <td>4.0</td>\n",
       "      <td>4.0</td>\n",
       "      <td>4.0</td>\n",
       "    </tr>\n",
       "    <tr>\n",
       "      <th>10600</th>\n",
       "      <td>5.0</td>\n",
       "      <td>5.0</td>\n",
       "      <td>5.0</td>\n",
       "      <td>5.0</td>\n",
       "    </tr>\n",
       "    <tr>\n",
       "      <th>10112</th>\n",
       "      <td>4.0</td>\n",
       "      <td>4.0</td>\n",
       "      <td>4.0</td>\n",
       "      <td>4.0</td>\n",
       "    </tr>\n",
       "  </tbody>\n",
       "</table>\n",
       "</div>"
      ],
      "text/plain": [
       "         Analytical thinking mates  Systemic thinking mates  \\\n",
       "user_id                                                       \n",
       "10189                          4.0                      4.0   \n",
       "10018                          5.0                      5.0   \n",
       "10580                          4.0                      4.0   \n",
       "10600                          5.0                      5.0   \n",
       "10112                          4.0                      4.0   \n",
       "\n",
       "         Adaptability mates  Focus mates  \n",
       "user_id                                   \n",
       "10189                   4.0          4.0  \n",
       "10018                   5.0          5.0  \n",
       "10580                   4.0          4.0  \n",
       "10600                   5.0          5.0  \n",
       "10112                   4.0          4.0  "
      ]
     },
     "execution_count": 47,
     "metadata": {},
     "output_type": "execute_result"
    }
   ],
   "source": [
    "users_to_save.head()"
   ]
  },
  {
   "cell_type": "code",
   "execution_count": 48,
   "metadata": {},
   "outputs": [],
   "source": [
    "users_to_save.to_csv('../data/preprocessed/teammate_assessments.csv', index_label='user_id')"
   ]
  }
 ],
 "metadata": {
  "kernelspec": {
   "display_name": "Python 3.9.7 64-bit ('Anaconda3')",
   "language": "python",
   "name": "python3"
  },
  "language_info": {
   "codemirror_mode": {
    "name": "ipython",
    "version": 3
   },
   "file_extension": ".py",
   "mimetype": "text/x-python",
   "name": "python",
   "nbconvert_exporter": "python",
   "pygments_lexer": "ipython3",
   "version": "3.9.12"
  },
  "orig_nbformat": 4,
  "vscode": {
   "interpreter": {
    "hash": "387ad525796718bb97a82b79b52320178770b17f1bc4766122ca5e96366d06b5"
   }
  }
 },
 "nbformat": 4,
 "nbformat_minor": 2
}
