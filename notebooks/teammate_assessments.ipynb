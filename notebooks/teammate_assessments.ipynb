{
 "cells": [
  {
   "cell_type": "code",
   "execution_count": 26,
   "metadata": {},
   "outputs": [],
   "source": [
    "import pandas as pd"
   ]
  },
  {
   "cell_type": "code",
   "execution_count": 27,
   "metadata": {},
   "outputs": [],
   "source": [
    "users_df = pd.read_csv('../data/raw/user.csv', index_col='user_id')\n",
    "decision_df = pd.read_csv('../data/raw/user_decision.csv')\n",
    "results_df = pd.read_csv('../data/raw/results.csv', index_col='id')\n",
    "submit_df = pd.read_csv('../data/to_sibmit.csv', index_col='id')"
   ]
  },
  {
   "cell_type": "code",
   "execution_count": 28,
   "metadata": {},
   "outputs": [],
   "source": [
    "assess_cols = ['Analytical thinking', 'Systemic thinking', 'Adaptability', 'Focus']"
   ]
  },
  {
   "cell_type": "code",
   "execution_count": 29,
   "metadata": {},
   "outputs": [],
   "source": [
    "users_df['is_train'] = users_df.index.isin(results_df.index)\n",
    "users_df = users_df.merge(results_df, how='left', left_index=True, right_index=True)"
   ]
  },
  {
   "cell_type": "code",
   "execution_count": 30,
   "metadata": {},
   "outputs": [],
   "source": [
    "users_to_submit_df = users_df[users_df['is_train']==False].copy()"
   ]
  },
  {
   "cell_type": "code",
   "execution_count": 31,
   "metadata": {},
   "outputs": [],
   "source": [
    "users_to_submit_df[assess_cols] =\\\n",
    "    users_to_submit_df.apply(lambda user: users_df[(users_df['team_id']==user['team_id'])&(users_df['is_train']==True)][assess_cols].mean().round(), axis = 1)\n",
    "users_to_submit_df = users_to_submit_df.fillna(4.0)"
   ]
  },
  {
   "cell_type": "code",
   "execution_count": 33,
   "metadata": {},
   "outputs": [],
   "source": [
    "submit_df[[]].merge(users_to_submit_df[assess_cols], left_index=True, right_index=True)\\\n",
    "    .to_csv('../data/preprocessed/teammate_assessments.csv', index_label='user_id')"
   ]
  }
 ],
 "metadata": {
  "kernelspec": {
   "display_name": "Python 3.9.12 ('base')",
   "language": "python",
   "name": "python3"
  },
  "language_info": {
   "codemirror_mode": {
    "name": "ipython",
    "version": 3
   },
   "file_extension": ".py",
   "mimetype": "text/x-python",
   "name": "python",
   "nbconvert_exporter": "python",
   "pygments_lexer": "ipython3",
   "version": "3.9.12"
  },
  "orig_nbformat": 4,
  "vscode": {
   "interpreter": {
    "hash": "fcab38ac7a48d9d126552f019503585294c063bf379df2de5a2df4bc7ac22ae2"
   }
  }
 },
 "nbformat": 4,
 "nbformat_minor": 2
}
